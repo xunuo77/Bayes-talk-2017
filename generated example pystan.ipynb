{
 "cells": [
  {
   "cell_type": "code",
   "execution_count": 1,
   "metadata": {
    "collapsed": true
   },
   "outputs": [],
   "source": [
    "from pystan import StanModel\n",
    "import matplotlib.pyplot as plt\n",
    "import matplotlib.mlab as mlab\n",
    "import numpy as np\n",
    "%matplotlib inline"
   ]
  },
  {
   "cell_type": "code",
   "execution_count": 2,
   "metadata": {
    "collapsed": true
   },
   "outputs": [],
   "source": [
    "np.random.seed(888888)"
   ]
  },
  {
   "cell_type": "code",
   "execution_count": 3,
   "metadata": {
    "collapsed": true
   },
   "outputs": [],
   "source": [
    "x = np.random.normal(0,1,50)"
   ]
  },
  {
   "cell_type": "code",
   "execution_count": 4,
   "metadata": {
    "collapsed": true
   },
   "outputs": [],
   "source": [
    "stancode = \"\"\"\n",
    "data {\n",
    "  int<lower=0> N;\n",
    "  real obs[N];\n",
    "}\n",
    "parameters {\n",
    "  real mu;\n",
    "}\n",
    "model {\n",
    "  mu ~ normal(0, 0.5);\n",
    "  obs ~ normal(mu, 1);\n",
    "}\n",
    "\"\"\""
   ]
  },
  {
   "cell_type": "code",
   "execution_count": 14,
   "metadata": {},
   "outputs": [
    {
     "name": "stderr",
     "output_type": "stream",
     "text": [
      "INFO:pystan:COMPILING THE C++ CODE FOR MODEL anon_model_c55bfd20e2bb4677545e7db416473d3a NOW.\n"
     ]
    },
    {
     "name": "stdout",
     "output_type": "stream",
     "text": [
      "CPU times: user 4.03 s, sys: 656 ms, total: 4.69 s\n",
      "Wall time: 2min 16s\n"
     ]
    }
   ],
   "source": [
    "%%time\n",
    "m = StanModel(model_code=stancode)"
   ]
  },
  {
   "cell_type": "code",
   "execution_count": 6,
   "metadata": {},
   "outputs": [
    {
     "name": "stdout",
     "output_type": "stream",
     "text": [
      "CPU times: user 109 ms, sys: 672 ms, total: 781 ms\n",
      "Wall time: 1.59 s\n"
     ]
    }
   ],
   "source": [
    "%%time\n",
    "fit = m.sampling(\n",
    "    {'N': 50,'obs': x,},\n",
    "    n_jobs=4,\n",
    "    chains=4,\n",
    "    iter=20000,\n",
    ")"
   ]
  },
  {
   "cell_type": "code",
   "execution_count": 7,
   "metadata": {},
   "outputs": [
    {
     "data": {
      "image/png": "[encoded data removed]",
      "text/plain": [
       "<matplotlib.figure.Figure at 0x7fd1699ff7f0>"
      ]
     },
     "metadata": {},
     "output_type": "display_data"
    }
   ],
   "source": [
    "figure = fit.traceplot()"
   ]
  },
  {
   "cell_type": "code",
   "execution_count": 15,
   "metadata": {
    "scrolled": true
   },
   "outputs": [
    {
     "data": {
      "text/plain": [
       "OrderedDict([('mu',\n",
       "              array([  5.39387053e-02,  -6.91048514e-02,  -1.24372820e-01, ...,\n",
       "                      -2.42234858e-04,  -3.45815247e-01,  -1.77362097e-01])),\n",
       "             ('lp__',\n",
       "              array([-25.89002546, -25.14851243, -25.08152678, ..., -25.46276986,\n",
       "                     -26.46757141, -25.1721877 ]))])"
      ]
     },
     "execution_count": 15,
     "metadata": {},
     "output_type": "execute_result"
    }
   ],
   "source": [
    "samples = fit.extract()\n",
    "samples"
   ]
  },
  {
   "cell_type": "code",
   "execution_count": 16,
   "metadata": {},
   "outputs": [
    {
     "data": {
      "text/plain": [
       "Inference for Stan model: anon_model_c55bfd20e2bb4677545e7db416473d3a.\n",
       "4 chains, each with iter=20000; warmup=10000; thin=1; \n",
       "post-warmup draws per chain=10000, total post-warmup draws=40000.\n",
       "\n",
       "       mean se_mean     sd   2.5%    25%    50%    75%  97.5%  n_eff   Rhat\n",
       "mu    -0.12  1.1e-3   0.13  -0.38  -0.21  -0.12  -0.03   0.15  14469    1.0\n",
       "lp__ -25.57  5.2e-3   0.69 -27.52 -25.72  -25.3 -25.13 -25.08  17881    1.0\n",
       "\n",
       "Samples were drawn using NUTS at Tue Sep  5 22:02:42 2017.\n",
       "For each parameter, n_eff is a crude measure of effective sample size,\n",
       "and Rhat is the potential scale reduction factor on split chains (at \n",
       "convergence, Rhat=1)."
      ]
     },
     "execution_count": 16,
     "metadata": {},
     "output_type": "execute_result"
    }
   ],
   "source": [
    "fit"
   ]
  },
  {
   "cell_type": "code",
   "execution_count": 13,
   "metadata": {},
   "outputs": [
    {
     "data": {
      "text/plain": [
       "<matplotlib.text.Text at 0x7fd1645d2ef0>"
      ]
     },
     "execution_count": 13,
     "metadata": {},
     "output_type": "execute_result"
    },
    {
     "data": {
      "image/png": "[encoded data removed]",
      "text/plain": [
       "<matplotlib.figure.Figure at 0x7fd168631da0>"
      ]
     },
     "metadata": {},
     "output_type": "display_data"
    }
   ],
   "source": [
    "# plot the estimate for the mean of mu, cumulating mean\n",
    "fig, ax = plt.subplots()\n",
    "mu_samples = samples['mu']\n",
    "m_mu_samples = [np.mean(mu_samples[:i]) for i in np.arange(1, len(mu_samples))]\n",
    "ax.plot(m_mu_samples)\n",
    "ax.set_xlabel('Iteration')\n",
    "ax.set_ylabel('MCMC mean of mu')\n",
    "ax.set_title('MCMC estimation of mu')"
   ]
  },
  {
   "cell_type": "code",
   "execution_count": null,
   "metadata": {
    "collapsed": true
   },
   "outputs": [],
   "source": [
    "stancode = \"\"\"\n",
    "data {\n",
    "  int<lower=0> N;\n",
    "  real obs[N];\n",
    "}\n",
    "parameters {\n",
    "  real mu;\n",
    "  real<lower=0> std;\n",
    "}\n",
    "model {\n",
    "  mu ~ cauchy(0, 10);\n",
    "  std ~ cauchy(0, 10);\n",
    "  obs ~ normal(mu, std);\n",
    "}\n",
    "\"\"\""
   ]
  }
 ],
 "metadata": {
  "kernelspec": {
   "display_name": "Python 3",
   "language": "python",
   "name": "python3"
  },
  "language_info": {
   "codemirror_mode": {
    "name": "ipython",
    "version": 3
   },
   "file_extension": ".py",
   "mimetype": "text/x-python",
   "name": "python",
   "nbconvert_exporter": "python",
   "pygments_lexer": "ipython3",
   "version": "3.6.1"
  }
 },
 "nbformat": 4,
 "nbformat_minor": 2
}
